{
 "cells": [
  {
   "cell_type": "markdown",
   "id": "e10c6a95",
   "metadata": {},
   "source": [
    "# ReadMe\n",
    "This Journal is written to record the problems I met when reviewing CMEE course, along with the solutions."
   ]
  },
  {
   "cell_type": "markdown",
   "id": "6692f4ac",
   "metadata": {},
   "source": [
    "# Jupyter related\n",
    "to add the `url` in jupyter notebook: \"[blue_text](url here)\"\n",
    "\n",
    "\"[shortcut](https://towardsdatascience.com/jypyter-notebook-shortcuts-bf0101a98330)\"\n",
    "\n",
    "**Quotes:** \\\n",
    "one \" \\* \" &rarr; *斜体* \\\n",
    "two \" \\* \" &rarr; **加粗** \\\n",
    "three \" \\* \" &rarr; ***斜体+加粗*** \\\n",
    "use \" \\` \" to quote `code`"
   ]
  },
  {
   "cell_type": "markdown",
   "id": "274d177c",
   "metadata": {},
   "source": [
    "# Python related\n",
    "## PyCharm\n",
    "Before you run the code in the PyCharm IDE, make sure the edit `configuration` is set beforehand."
   ]
  },
  {
   "cell_type": "markdown",
   "id": "d74aa707",
   "metadata": {},
   "source": [
    "# VSCode related\n",
    "\n",
    "[useful tips](https://juejin.cn/post/6844903826063884296#heading-55) \n",
    "\n",
    "## Configuration setting\n",
    "**Set the `working directory:`**\n",
    "1. `setting` &rarr; `command pallete`\n",
    "2. search the launch.json file\n",
    "3. add `\"cwd\": \"${fileDirname}\"` in configurations\n",
    "4. the defalt file working directory is one layer above "
   ]
  },
  {
   "cell_type": "markdown",
   "id": "abb1c917",
   "metadata": {},
   "source": [
    "# Common used [markdown syntax](https://rmarkdown.rstudio.com/authoring_basics.html)\n",
    "**Arrows in markdown:** \\\n",
    "`&larr;`: &larr; left arrow \\\n",
    "`&rarr;`: &rarr; right arrow \\\n",
    "`&uarr;`: &uarr; up arrow \\\n",
    "`darr;`: &darr; down arrow  \\\n",
    "`&harr;`: &harr; doboule headed arrow \n",
    "\n",
    "**Itemize** \\\n",
    "+ `+` or `*`: itemize\n",
    "    * `+` or `*` sub itemise\n",
    "        * test\n",
    "\n",
    "**R Code Chunks**\n",
    "```{r}\n",
    "summary(cars$dist)\n",
    "summary(cars$speed)\n",
    "```\n",
    "\n",
    "**Quotations**\n",
    "> Quotations"
   ]
  },
  {
   "cell_type": "markdown",
   "id": "7536e4f4",
   "metadata": {},
   "source": [
    "# Tips\n",
    "**SSH:** \\\n",
    "set up your ssh-based protacal to connect and interact with your remote services. \\\n",
    "e.g. [set git SSH](https://docs.github.com/en/authentication/connecting-to-github-with-ssh)\n",
    "\n",
    "**ShortCuts:** \\\n",
    "[jupyter notebook shortcuts](https://towardsdatascience.com/jypyter-notebook-shortcuts-bf0101a98330) \\\n",
    "a: above cell \\\n",
    "b: bellow cell \\\n",
    "x: cut cell \\\n",
    "y: change cell type to *code* \\\n",
    "m: change cell type to markdown \n",
    "\n"
   ]
  },
  {
   "cell_type": "markdown",
   "id": "d93760aa",
   "metadata": {},
   "source": [
    "# Notice \n",
    "+ do not use the module names as the name of the files, like do not name numpy.py etc."
   ]
  }
 ],
 "metadata": {
  "kernelspec": {
   "display_name": "Python 3 (ipykernel)",
   "language": "python",
   "name": "python3"
  },
  "language_info": {
   "codemirror_mode": {
    "name": "ipython",
    "version": 3
   },
   "file_extension": ".py",
   "mimetype": "text/x-python",
   "name": "python",
   "nbconvert_exporter": "python",
   "pygments_lexer": "ipython3",
   "version": "3.9.7"
  }
 },
 "nbformat": 4,
 "nbformat_minor": 5
}
