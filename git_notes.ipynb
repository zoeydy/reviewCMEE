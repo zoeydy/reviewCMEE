{
 "cells": [
  {
   "cell_type": "markdown",
   "id": "3c4b639a",
   "metadata": {},
   "source": [
    "[git configuration CMEE](https://mhasoba.github.io/TheMulQuaBio/notebooks/03-Git.html) \\\n",
    "[git configuration 图灵星球](https://turingplanet.org/git%E5%92%8Cgithub%E6%95%99%E7%A8%8B/)"
   ]
  },
  {
   "cell_type": "markdown",
   "id": "5166799a",
   "metadata": {},
   "source": [
    "`git log`: check git 上传历史记录\\\n",
    "`rm -rf .git`: [delete the local github repository](https://stackoverflow.com/questions/1514054/how-do-i-delete-a-local-repository-in-git)\n"
   ]
  },
  {
   "cell_type": "markdown",
   "id": "3e127e09",
   "metadata": {},
   "source": [
    "# working directory(工作区), staging area(暂存区), repository(版本区)\n",
    "\n",
    "`add` &rarr; **staging area** \\\n",
    "\n",
    "`git diff`: the difference between **working directory** and **staging area** (main/master的). \\\n",
    "`git diff --cached`: the difference between **staging area** and **the version of last `commit`** \\\n",
    "`git diff HEAD`: **工作区**和**当前暂存区**的区别\n",
    "\n",
    "## 从暂存区撤回(慎用，试用时将本地内容也回退到之前版本了)\n",
    "`git checkout master`: 退回当前\n",
    "`git reset --hard HEAD`: 当前内容退回到上次commit\n",
    "`git log --oneline`: 显示记录及其index\n",
    "`git reset --hard (index from git log --oneline)`: 退回指定位置（在此之前commit的内容包括本地都将删除）"
   ]
  }
 ],
 "metadata": {
  "kernelspec": {
   "display_name": "Python 3.9.7",
   "language": "python",
   "name": "python397jvsc74a57bd038cca0c38332a56087b24af0bc80247f4fced29cb4f7f437d91dc159adec9c4e"
  },
  "language_info": {
   "codemirror_mode": {
    "name": "ipython",
    "version": 3
   },
   "file_extension": ".py",
   "mimetype": "text/x-python",
   "name": "python",
   "nbconvert_exporter": "python",
   "pygments_lexer": "ipython3",
   "version": "3.9.7"
  }
 },
 "nbformat": 4,
 "nbformat_minor": 5
}
